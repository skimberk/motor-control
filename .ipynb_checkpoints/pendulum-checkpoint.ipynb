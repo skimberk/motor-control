{
 "cells": [
  {
   "cell_type": "code",
   "execution_count": 2,
   "metadata": {},
   "outputs": [],
   "source": [
    "from sympy import symbols, diff, Function, Rational, sin, cos, pi, Matrix, solve\n",
    "from sympy.physics.mechanics import dynamicsymbols\n",
    "\n",
    "m, g, l, t = symbols('m g l t')\n",
    "theta = dynamicsymbols('theta')\n",
    "\n",
    "thetadot, thetadotdot = theta.diff(t), theta.diff(t, t)"
   ]
  },
  {
   "cell_type": "code",
   "execution_count": 5,
   "metadata": {},
   "outputs": [],
   "source": [
    "T = Rational(1, 2) * m * (2 * pi * l * thetadot)**2\n",
    "U = m * g * l * (1 - cos(theta))\n",
    "L = T - U"
   ]
  },
  {
   "cell_type": "code",
   "execution_count": 9,
   "metadata": {},
   "outputs": [
    {
     "data": {
      "text/latex": [
       "$\\displaystyle - \\frac{g \\sin{\\left(\\theta{\\left(t \\right)} \\right)}}{4 \\pi^{2} l}$"
      ],
      "text/plain": [
       "-g*sin(theta(t))/(4*pi**2*l)"
      ]
     },
     "execution_count": 9,
     "metadata": {},
     "output_type": "execute_result"
    }
   ],
   "source": [
    "solve(diff(L, thetadot, t) - diff(L, theta), thetadotdot)[0]"
   ]
  }
 ],
 "metadata": {
  "kernelspec": {
   "display_name": "Python 3",
   "language": "python",
   "name": "python3"
  },
  "language_info": {
   "codemirror_mode": {
    "name": "ipython",
    "version": 3
   },
   "file_extension": ".py",
   "mimetype": "text/x-python",
   "name": "python",
   "nbconvert_exporter": "python",
   "pygments_lexer": "ipython3",
   "version": "3.8.3"
  }
 },
 "nbformat": 4,
 "nbformat_minor": 4
}
