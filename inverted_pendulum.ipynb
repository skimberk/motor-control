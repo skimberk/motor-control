{
 "cells": [
  {
   "cell_type": "code",
   "execution_count": 2,
   "metadata": {},
   "outputs": [],
   "source": [
    "from sympy import symbols, diff, Function, Rational, sin, cos, pi, Matrix, solve, nonlinsolve\n",
    "from sympy.physics.mechanics import dynamicsymbols\n",
    "from sympy.utilities.lambdify import lambdify\n",
    "\n",
    "m, M, g, l, t, F = symbols('m M g l t F')\n",
    "x, theta = dynamicsymbols('x theta')\n",
    "\n",
    "xdot, xdotdot = x.diff(t), x.diff(t, t)\n",
    "thetadot, thetadotdot = theta.diff(t), theta.diff(t, t)"
   ]
  },
  {
   "cell_type": "code",
   "execution_count": 3,
   "metadata": {},
   "outputs": [],
   "source": [
    "pv = Matrix([l * thetadot * cos(theta) + xdot, l * thetadot * sin(theta)])\n",
    "T = Rational(1, 2) * m * pv.dot(pv) + Rational(1, 2) * M * xdot**2\n",
    "U = m * g * l * (1 - cos(theta))\n",
    "L = T - U"
   ]
  },
  {
   "cell_type": "code",
   "execution_count": 4,
   "metadata": {},
   "outputs": [
    {
     "data": {
      "text/latex": [
       "$\\displaystyle \\left\\{\\left( - \\frac{F \\cos{\\left(\\theta{\\left(t \\right)} \\right)} + M g \\sin{\\left(\\theta{\\left(t \\right)} \\right)} + g m \\sin{\\left(\\theta{\\left(t \\right)} \\right)} + \\frac{l m \\sin{\\left(2 \\theta{\\left(t \\right)} \\right)} \\left(\\frac{d}{d t} \\theta{\\left(t \\right)}\\right)^{2}}{2}}{l \\left(M + m \\sin^{2}{\\left(\\theta{\\left(t \\right)} \\right)}\\right)}, \\  \\frac{F + \\frac{g m \\sin{\\left(2 \\theta{\\left(t \\right)} \\right)}}{2} + l m \\sin{\\left(\\theta{\\left(t \\right)} \\right)} \\left(\\frac{d}{d t} \\theta{\\left(t \\right)}\\right)^{2}}{M + m \\sin^{2}{\\left(\\theta{\\left(t \\right)} \\right)}}\\right)\\right\\}$"
      ],
      "text/plain": [
       "FiniteSet((-(F*cos(theta(t)) + M*g*sin(theta(t)) + g*m*sin(theta(t)) + l*m*sin(2*theta(t))*Derivative(theta(t), t)**2/2)/(l*(M + m*sin(theta(t))**2)), (F + g*m*sin(2*theta(t))/2 + l*m*sin(theta(t))*Derivative(theta(t), t)**2)/(M + m*sin(theta(t))**2)))"
      ]
     },
     "execution_count": 4,
     "metadata": {},
     "output_type": "execute_result"
    }
   ],
   "source": [
    "system = [\n",
    "    diff(L, thetadot, t) - diff(L, theta),\n",
    "    diff(L, xdot, t) - diff(L, x) - F\n",
    "]\n",
    "eqs = nonlinsolve(system, [thetadotdot, xdotdot])\n",
    "eqs"
   ]
  },
  {
   "cell_type": "code",
   "execution_count": 5,
   "metadata": {},
   "outputs": [
    {
     "data": {
      "text/latex": [
       "$\\displaystyle \\left\\{\\left( - \\frac{\\left(M g + g m + l m \\cos{\\left(\\theta{\\left(t \\right)} \\right)} \\left(\\frac{d}{d t} \\theta{\\left(t \\right)}\\right)^{2}\\right) \\sin{\\left(\\theta{\\left(t \\right)} \\right)}}{l \\left(M + m \\sin^{2}{\\left(\\theta{\\left(t \\right)} \\right)}\\right)}, \\  \\frac{m \\left(g \\cos{\\left(\\theta{\\left(t \\right)} \\right)} + l \\left(\\frac{d}{d t} \\theta{\\left(t \\right)}\\right)^{2}\\right) \\sin{\\left(\\theta{\\left(t \\right)} \\right)}}{M + m \\sin^{2}{\\left(\\theta{\\left(t \\right)} \\right)}}\\right)\\right\\}$"
      ],
      "text/plain": [
       "FiniteSet((-(M*g + g*m + l*m*cos(theta(t))*Derivative(theta(t), t)**2)*sin(theta(t))/(l*(M + m*sin(theta(t))**2)), m*(g*cos(theta(t)) + l*Derivative(theta(t), t)**2)*sin(theta(t))/(M + m*sin(theta(t))**2)))"
      ]
     },
     "execution_count": 5,
     "metadata": {},
     "output_type": "execute_result"
    }
   ],
   "source": [
    "system = [\n",
    "    diff(L, thetadot, t) - diff(L, theta),\n",
    "    diff(L, xdot, t) - diff(L, x)\n",
    "]\n",
    "nonlinsolve(system, [thetadotdot, xdotdot])"
   ]
  },
  {
   "cell_type": "code",
   "execution_count": 14,
   "metadata": {},
   "outputs": [
    {
     "data": {
      "text/plain": [
       "(-1.5677856468274318, 1.3442745924478654)"
      ]
     },
     "execution_count": 14,
     "metadata": {},
     "output_type": "execute_result"
    }
   ],
   "source": [
    "f = lambdify([F, theta, thetadot, m, M, g, l], eqs.args[0])\n",
    "f(1, 1, 1, 1, 1, 1, 1)"
   ]
  },
  {
   "cell_type": "code",
   "execution_count": 15,
   "metadata": {},
   "outputs": [
    {
     "data": {
      "text/latex": [
       "$\\displaystyle \\left[\\begin{matrix}\\frac{2 m \\left(F \\cos{\\left(\\theta{\\left(t \\right)} \\right)} + M g \\sin{\\left(\\theta{\\left(t \\right)} \\right)} + g m \\sin{\\left(\\theta{\\left(t \\right)} \\right)} + \\frac{l m \\sin{\\left(2 \\theta{\\left(t \\right)} \\right)} \\left(\\frac{d}{d t} \\theta{\\left(t \\right)}\\right)^{2}}{2}\\right) \\sin{\\left(\\theta{\\left(t \\right)} \\right)} \\cos{\\left(\\theta{\\left(t \\right)} \\right)}}{l \\left(M + m \\sin^{2}{\\left(\\theta{\\left(t \\right)} \\right)}\\right)^{2}} - \\frac{- F \\sin{\\left(\\theta{\\left(t \\right)} \\right)} + M g \\cos{\\left(\\theta{\\left(t \\right)} \\right)} + g m \\cos{\\left(\\theta{\\left(t \\right)} \\right)} + l m \\cos{\\left(2 \\theta{\\left(t \\right)} \\right)} \\left(\\frac{d}{d t} \\theta{\\left(t \\right)}\\right)^{2}}{l \\left(M + m \\sin^{2}{\\left(\\theta{\\left(t \\right)} \\right)}\\right)} & - \\frac{m \\sin{\\left(2 \\theta{\\left(t \\right)} \\right)} \\frac{d}{d t} \\theta{\\left(t \\right)}}{M + m \\sin^{2}{\\left(\\theta{\\left(t \\right)} \\right)}}\\\\- \\frac{2 m \\left(F + \\frac{g m \\sin{\\left(2 \\theta{\\left(t \\right)} \\right)}}{2} + l m \\sin{\\left(\\theta{\\left(t \\right)} \\right)} \\left(\\frac{d}{d t} \\theta{\\left(t \\right)}\\right)^{2}\\right) \\sin{\\left(\\theta{\\left(t \\right)} \\right)} \\cos{\\left(\\theta{\\left(t \\right)} \\right)}}{\\left(M + m \\sin^{2}{\\left(\\theta{\\left(t \\right)} \\right)}\\right)^{2}} + \\frac{g m \\cos{\\left(2 \\theta{\\left(t \\right)} \\right)} + l m \\cos{\\left(\\theta{\\left(t \\right)} \\right)} \\left(\\frac{d}{d t} \\theta{\\left(t \\right)}\\right)^{2}}{M + m \\sin^{2}{\\left(\\theta{\\left(t \\right)} \\right)}} & \\frac{2 l m \\sin{\\left(\\theta{\\left(t \\right)} \\right)} \\frac{d}{d t} \\theta{\\left(t \\right)}}{M + m \\sin^{2}{\\left(\\theta{\\left(t \\right)} \\right)}}\\end{matrix}\\right]$"
      ],
      "text/plain": [
       "Matrix([\n",
       "[2*m*(F*cos(theta(t)) + M*g*sin(theta(t)) + g*m*sin(theta(t)) + l*m*sin(2*theta(t))*Derivative(theta(t), t)**2/2)*sin(theta(t))*cos(theta(t))/(l*(M + m*sin(theta(t))**2)**2) - (-F*sin(theta(t)) + M*g*cos(theta(t)) + g*m*cos(theta(t)) + l*m*cos(2*theta(t))*Derivative(theta(t), t)**2)/(l*(M + m*sin(theta(t))**2)),  -m*sin(2*theta(t))*Derivative(theta(t), t)/(M + m*sin(theta(t))**2)],\n",
       "[                                                                                -2*m*(F + g*m*sin(2*theta(t))/2 + l*m*sin(theta(t))*Derivative(theta(t), t)**2)*sin(theta(t))*cos(theta(t))/(M + m*sin(theta(t))**2)**2 + (g*m*cos(2*theta(t)) + l*m*cos(theta(t))*Derivative(theta(t), t)**2)/(M + m*sin(theta(t))**2), 2*l*m*sin(theta(t))*Derivative(theta(t), t)/(M + m*sin(theta(t))**2)]])"
      ]
     },
     "execution_count": 15,
     "metadata": {},
     "output_type": "execute_result"
    }
   ],
   "source": [
    "Matrix(eqs.args[0]).jacobian([theta, thetadot])"
   ]
  },
  {
   "cell_type": "code",
   "execution_count": null,
   "metadata": {},
   "outputs": [],
   "source": []
  }
 ],
 "metadata": {
  "kernelspec": {
   "display_name": "Python 3",
   "language": "python",
   "name": "python3"
  },
  "language_info": {
   "codemirror_mode": {
    "name": "ipython",
    "version": 3
   },
   "file_extension": ".py",
   "mimetype": "text/x-python",
   "name": "python",
   "nbconvert_exporter": "python",
   "pygments_lexer": "ipython3",
   "version": "3.8.2"
  }
 },
 "nbformat": 4,
 "nbformat_minor": 4
}
