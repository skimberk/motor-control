{
 "cells": [
  {
   "cell_type": "code",
   "execution_count": 28,
   "metadata": {},
   "outputs": [],
   "source": [
    "from sympy import symbols, diff, Function, Rational, sin, cos, pi, Matrix, solve, nonlinsolve\n",
    "from sympy.physics.mechanics import dynamicsymbols\n",
    "from sympy.utilities.lambdify import lambdify\n",
    "import inspect\n",
    "import numpy\n",
    "\n",
    "mr, mw, g, l, r, t, tau = symbols('m_r m_w g l r t, tau')\n",
    "thetar, thetaw = dynamicsymbols('theta_r theta_w')\n",
    "\n",
    "thetardot, thetardotdot = thetar.diff(t), thetar.diff(t, t)\n",
    "thetawdot, thetawdotdot = thetaw.diff(t), thetaw.diff(t, t)"
   ]
  },
  {
   "cell_type": "code",
   "execution_count": 32,
   "metadata": {},
   "outputs": [],
   "source": [
    "# x and y components of velocity\n",
    "# First element is x velocity (sum of x component of rod mass velocity and cart velocity)\n",
    "# Second element is y velocity (y component of rod mass velocity)\n",
    "pv = Matrix([l * thetardot * cos(thetar) + r * thetawdot, l * thetardot * sin(thetar)])\n",
    "\n",
    "# Kinetic energy of system, where potential energy of mass is (1/2)*m*v^2\n",
    "T = Rational(1, 2) * mr * pv.dot(pv) + Rational(1, 2) * mw * (r * thetawdot)**2\n",
    "\n",
    "# Potential energy of system, where kinetic energy of mass is m*g*h\n",
    "# where h is the height above ground/resting point\n",
    "# The rod mass has maximum potential energy at the top of the pendulum (i.e. l above the pivot point)\n",
    "# and minimum potential energy at the bottom of the pendulum (i.e. l below the pivot point)\n",
    "# thus, it's height varies between 2*l and 0\n",
    "U = mr * g * l * (1 - cos(thetar))\n",
    "\n",
    "# Total energy\n",
    "L = T - U"
   ]
  },
  {
   "cell_type": "code",
   "execution_count": 33,
   "metadata": {},
   "outputs": [
    {
     "data": {
      "text/latex": [
       "$\\displaystyle \\left\\{\\left( - \\frac{g l m_{r}^{2} r \\sin{\\left(\\theta_{r}{\\left(t \\right)} \\right)} + g l m_{r} m_{w} r \\sin{\\left(\\theta_{r}{\\left(t \\right)} \\right)} + \\frac{l^{2} m_{r}^{2} r \\sin{\\left(2 \\theta_{r}{\\left(t \\right)} \\right)} \\left(\\frac{d}{d t} \\theta_{r}{\\left(t \\right)}\\right)^{2}}{2} + l m_{r} \\tau \\cos{\\left(\\theta_{r}{\\left(t \\right)} \\right)} + m_{r} r \\tau + m_{w} r \\tau}{l^{2} m_{r} r \\left(m_{r} \\sin^{2}{\\left(\\theta_{r}{\\left(t \\right)} \\right)} + m_{w}\\right)}, \\  \\frac{\\frac{g l m_{r} r \\sin{\\left(2 \\theta_{r}{\\left(t \\right)} \\right)}}{2} + l^{2} m_{r} r \\sin{\\left(\\theta_{r}{\\left(t \\right)} \\right)} \\left(\\frac{d}{d t} \\theta_{r}{\\left(t \\right)}\\right)^{2} + l \\tau + r \\tau \\cos{\\left(\\theta_{r}{\\left(t \\right)} \\right)}}{l r^{2} \\left(m_{r} \\sin^{2}{\\left(\\theta_{r}{\\left(t \\right)} \\right)} + m_{w}\\right)}\\right)\\right\\}$"
      ],
      "text/plain": [
       "FiniteSet((-(g*l*m_r**2*r*sin(theta_r(t)) + g*l*m_r*m_w*r*sin(theta_r(t)) + l**2*m_r**2*r*sin(2*theta_r(t))*Derivative(theta_r(t), t)**2/2 + l*m_r*tau*cos(theta_r(t)) + m_r*r*tau + m_w*r*tau)/(l**2*m_r*r*(m_r*sin(theta_r(t))**2 + m_w)), (g*l*m_r*r*sin(2*theta_r(t))/2 + l**2*m_r*r*sin(theta_r(t))*Derivative(theta_r(t), t)**2 + l*tau + r*tau*cos(theta_r(t)))/(l*r**2*(m_r*sin(theta_r(t))**2 + m_w))))"
      ]
     },
     "execution_count": 33,
     "metadata": {},
     "output_type": "execute_result"
    }
   ],
   "source": [
    "system = [\n",
    "    diff(L, thetardot, t) - diff(L, thetar) + tau,\n",
    "    diff(L, thetawdot, t) - diff(L, thetaw) - tau\n",
    "]\n",
    "eqs = nonlinsolve(system, [thetardotdot, thetawdotdot])\n",
    "eqs"
   ]
  },
  {
   "cell_type": "code",
   "execution_count": 34,
   "metadata": {},
   "outputs": [
    {
     "data": {
      "text/plain": [
       "'def _lambdifygenerated(m_r, m_w, g, l, r, t, tau, _Dummy_323, _Dummy_321, _Dummy_322, _Dummy_320):\\n    return ((-((1/2)*_Dummy_321**2*l**2*m_r**2*r*sin(2*_Dummy_323) + g*l*m_r**2*r*sin(_Dummy_323) + g*l*m_r*m_w*r*sin(_Dummy_323) + l*m_r*tau*cos(_Dummy_323) + m_r*r*tau + m_w*r*tau)/(l**2*m_r*r*(m_r*sin(_Dummy_323)**2 + m_w)), (_Dummy_321**2*l**2*m_r*r*sin(_Dummy_323) + (1/2)*g*l*m_r*r*sin(2*_Dummy_323) + l*tau + r*tau*cos(_Dummy_323))/(l*r**2*(m_r*sin(_Dummy_323)**2 + m_w))))\\n'"
      ]
     },
     "execution_count": 34,
     "metadata": {},
     "output_type": "execute_result"
    }
   ],
   "source": [
    "f = lambdify([mr, mw, g, l, r, t, tau, thetar, thetardot, thetaw, thetawdot], eqs.args[0])\n",
    "inspect.getsource(f)"
   ]
  },
  {
   "cell_type": "code",
   "execution_count": 35,
   "metadata": {},
   "outputs": [
    {
     "data": {
      "text/latex": [
       "$\\displaystyle \\left\\{\\left( - \\frac{\\left(g m_{r} + g m_{w} + l m_{r} \\cos{\\left(\\theta_{r}{\\left(t \\right)} \\right)} \\left(\\frac{d}{d t} \\theta_{r}{\\left(t \\right)}\\right)^{2}\\right) \\sin{\\left(\\theta_{r}{\\left(t \\right)} \\right)}}{l \\left(m_{r} \\sin^{2}{\\left(\\theta_{r}{\\left(t \\right)} \\right)} + m_{w}\\right)}, \\  \\frac{m_{r} \\left(g \\cos{\\left(\\theta_{r}{\\left(t \\right)} \\right)} + l \\left(\\frac{d}{d t} \\theta_{r}{\\left(t \\right)}\\right)^{2}\\right) \\sin{\\left(\\theta_{r}{\\left(t \\right)} \\right)}}{r \\left(m_{r} \\sin^{2}{\\left(\\theta_{r}{\\left(t \\right)} \\right)} + m_{w}\\right)}\\right)\\right\\}$"
      ],
      "text/plain": [
       "FiniteSet((-(g*m_r + g*m_w + l*m_r*cos(theta_r(t))*Derivative(theta_r(t), t)**2)*sin(theta_r(t))/(l*(m_r*sin(theta_r(t))**2 + m_w)), m_r*(g*cos(theta_r(t)) + l*Derivative(theta_r(t), t)**2)*sin(theta_r(t))/(r*(m_r*sin(theta_r(t))**2 + m_w))))"
      ]
     },
     "execution_count": 35,
     "metadata": {},
     "output_type": "execute_result"
    }
   ],
   "source": [
    "system = [\n",
    "    diff(L, thetardot, t) - diff(L, thetar),\n",
    "    diff(L, thetawdot, t) - diff(L, thetaw)\n",
    "]\n",
    "eqs = nonlinsolve(system, [thetardotdot, thetawdotdot])\n",
    "eqs"
   ]
  },
  {
   "cell_type": "code",
   "execution_count": null,
   "metadata": {},
   "outputs": [],
   "source": []
  }
 ],
 "metadata": {
  "kernelspec": {
   "display_name": "Python 3",
   "language": "python",
   "name": "python3"
  },
  "language_info": {
   "codemirror_mode": {
    "name": "ipython",
    "version": 3
   },
   "file_extension": ".py",
   "mimetype": "text/x-python",
   "name": "python",
   "nbconvert_exporter": "python",
   "pygments_lexer": "ipython3",
   "version": "3.8.2"
  }
 },
 "nbformat": 4,
 "nbformat_minor": 4
}
