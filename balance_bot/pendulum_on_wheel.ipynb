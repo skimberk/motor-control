{
 "cells": [
  {
   "cell_type": "code",
   "execution_count": 10,
   "metadata": {},
   "outputs": [],
   "source": [
    "from sympy import symbols, diff, Function, Rational, sin, cos, pi, Matrix, solve, nonlinsolve\n",
    "from sympy.physics.mechanics import dynamicsymbols\n",
    "from sympy.utilities.lambdify import lambdify\n",
    "import inspect\n",
    "import numpy as np\n",
    "\n",
    "mr, mw, g, l, r, t, tau = symbols('m_r m_w g l r t, tau')\n",
    "thetar, thetaw = dynamicsymbols('theta_r theta_w')\n",
    "\n",
    "thetardot, thetardotdot = thetar.diff(t), thetar.diff(t, t)\n",
    "thetawdot, thetawdotdot = thetaw.diff(t), thetaw.diff(t, t)"
   ]
  },
  {
   "cell_type": "code",
   "execution_count": 11,
   "metadata": {},
   "outputs": [],
   "source": [
    "# x and y components of velocity\n",
    "# First element is x velocity (sum of x component of rod mass velocity and cart velocity)\n",
    "# Second element is y velocity (y component of rod mass velocity)\n",
    "pv = Matrix([l * thetardot * cos(thetar) + r * thetawdot, l * thetardot * sin(thetar)])\n",
    "\n",
    "# Kinetic energy of system, where potential energy of mass is (1/2)*m*v^2\n",
    "T = Rational(1, 2) * mr * pv.dot(pv) + Rational(1, 2) * mw * (r * thetawdot)**2\n",
    "\n",
    "# Potential energy of system, where kinetic energy of mass is m*g*h\n",
    "# where h is the height above ground/resting point\n",
    "# The rod mass has maximum potential energy at the top of the pendulum (i.e. l above the pivot point)\n",
    "# and minimum potential energy at the bottom of the pendulum (i.e. l below the pivot point)\n",
    "# thus, it's height varies between 2*l and 0\n",
    "U = mr * g * l * (1 - cos(thetar))\n",
    "\n",
    "# Total energy\n",
    "L = T - U"
   ]
  },
  {
   "cell_type": "code",
   "execution_count": 12,
   "metadata": {},
   "outputs": [
    {
     "data": {
      "text/latex": [
       "$\\displaystyle \\left\\{\\left( - \\frac{g l m_{r}^{2} r \\sin{\\left(\\theta_{r}{\\left(t \\right)} \\right)} + g l m_{r} m_{w} r \\sin{\\left(\\theta_{r}{\\left(t \\right)} \\right)} + \\frac{l^{2} m_{r}^{2} r \\sin{\\left(2 \\theta_{r}{\\left(t \\right)} \\right)} \\left(\\frac{d}{d t} \\theta_{r}{\\left(t \\right)}\\right)^{2}}{2} + l m_{r} \\tau \\cos{\\left(\\theta_{r}{\\left(t \\right)} \\right)} + m_{r} r \\tau + m_{w} r \\tau}{l^{2} m_{r} r \\left(m_{r} \\sin^{2}{\\left(\\theta_{r}{\\left(t \\right)} \\right)} + m_{w}\\right)}, \\  \\frac{\\frac{g l m_{r} r \\sin{\\left(2 \\theta_{r}{\\left(t \\right)} \\right)}}{2} + l^{2} m_{r} r \\sin{\\left(\\theta_{r}{\\left(t \\right)} \\right)} \\left(\\frac{d}{d t} \\theta_{r}{\\left(t \\right)}\\right)^{2} + l \\tau + r \\tau \\cos{\\left(\\theta_{r}{\\left(t \\right)} \\right)}}{l r^{2} \\left(m_{r} \\sin^{2}{\\left(\\theta_{r}{\\left(t \\right)} \\right)} + m_{w}\\right)}\\right)\\right\\}$"
      ],
      "text/plain": [
       "FiniteSet((-(g*l*m_r**2*r*sin(theta_r(t)) + g*l*m_r*m_w*r*sin(theta_r(t)) + l**2*m_r**2*r*sin(2*theta_r(t))*Derivative(theta_r(t), t)**2/2 + l*m_r*tau*cos(theta_r(t)) + m_r*r*tau + m_w*r*tau)/(l**2*m_r*r*(m_r*sin(theta_r(t))**2 + m_w)), (g*l*m_r*r*sin(2*theta_r(t))/2 + l**2*m_r*r*sin(theta_r(t))*Derivative(theta_r(t), t)**2 + l*tau + r*tau*cos(theta_r(t)))/(l*r**2*(m_r*sin(theta_r(t))**2 + m_w))))"
      ]
     },
     "execution_count": 12,
     "metadata": {},
     "output_type": "execute_result"
    }
   ],
   "source": [
    "system = [\n",
    "    diff(L, thetardot, t) - diff(L, thetar) + tau,\n",
    "    diff(L, thetawdot, t) - diff(L, thetaw) - tau\n",
    "]\n",
    "eqs = nonlinsolve(system, [thetardotdot, thetawdotdot])\n",
    "eqs"
   ]
  },
  {
   "cell_type": "code",
   "execution_count": 13,
   "metadata": {},
   "outputs": [
    {
     "data": {
      "text/plain": [
       "'def _lambdifygenerated(m_r, m_w, g, l, r, t, tau, _Dummy_229, _Dummy_227, _Dummy_228, _Dummy_226):\\n    return ((-((1/2)*_Dummy_227**2*l**2*m_r**2*r*sin(2*_Dummy_229) + g*l*m_r**2*r*sin(_Dummy_229) + g*l*m_r*m_w*r*sin(_Dummy_229) + l*m_r*tau*cos(_Dummy_229) + m_r*r*tau + m_w*r*tau)/(l**2*m_r*r*(m_r*sin(_Dummy_229)**2 + m_w)), (_Dummy_227**2*l**2*m_r*r*sin(_Dummy_229) + (1/2)*g*l*m_r*r*sin(2*_Dummy_229) + l*tau + r*tau*cos(_Dummy_229))/(l*r**2*(m_r*sin(_Dummy_229)**2 + m_w))))\\n'"
      ]
     },
     "execution_count": 13,
     "metadata": {},
     "output_type": "execute_result"
    }
   ],
   "source": [
    "f = lambdify([mr, mw, g, l, r, t, tau, thetar, thetardot, thetaw, thetawdot], eqs.args[0])\n",
    "inspect.getsource(f)"
   ]
  },
  {
   "cell_type": "code",
   "execution_count": 30,
   "metadata": {},
   "outputs": [
    {
     "data": {
      "text/latex": [
       "$\\displaystyle \\left[\\begin{matrix}\\frac{2 \\left(g l m_{r}^{2} r \\sin{\\left(\\theta_{r}{\\left(t \\right)} \\right)} + g l m_{r} m_{w} r \\sin{\\left(\\theta_{r}{\\left(t \\right)} \\right)} + \\frac{l^{2} m_{r}^{2} r \\sin{\\left(2 \\theta_{r}{\\left(t \\right)} \\right)} \\left(\\frac{d}{d t} \\theta_{r}{\\left(t \\right)}\\right)^{2}}{2} + l m_{r} \\tau \\cos{\\left(\\theta_{r}{\\left(t \\right)} \\right)} + m_{r} r \\tau + m_{w} r \\tau\\right) \\sin{\\left(\\theta_{r}{\\left(t \\right)} \\right)} \\cos{\\left(\\theta_{r}{\\left(t \\right)} \\right)}}{l^{2} r \\left(m_{r} \\sin^{2}{\\left(\\theta_{r}{\\left(t \\right)} \\right)} + m_{w}\\right)^{2}} - \\frac{g l m_{r}^{2} r \\cos{\\left(\\theta_{r}{\\left(t \\right)} \\right)} + g l m_{r} m_{w} r \\cos{\\left(\\theta_{r}{\\left(t \\right)} \\right)} + l^{2} m_{r}^{2} r \\cos{\\left(2 \\theta_{r}{\\left(t \\right)} \\right)} \\left(\\frac{d}{d t} \\theta_{r}{\\left(t \\right)}\\right)^{2} - l m_{r} \\tau \\sin{\\left(\\theta_{r}{\\left(t \\right)} \\right)}}{l^{2} m_{r} r \\left(m_{r} \\sin^{2}{\\left(\\theta_{r}{\\left(t \\right)} \\right)} + m_{w}\\right)} & 0 & - \\frac{m_{r} \\sin{\\left(2 \\theta_{r}{\\left(t \\right)} \\right)} \\frac{d}{d t} \\theta_{r}{\\left(t \\right)}}{m_{r} \\sin^{2}{\\left(\\theta_{r}{\\left(t \\right)} \\right)} + m_{w}} & 0\\\\- \\frac{2 m_{r} \\left(\\frac{g l m_{r} r \\sin{\\left(2 \\theta_{r}{\\left(t \\right)} \\right)}}{2} + l^{2} m_{r} r \\sin{\\left(\\theta_{r}{\\left(t \\right)} \\right)} \\left(\\frac{d}{d t} \\theta_{r}{\\left(t \\right)}\\right)^{2} + l \\tau + r \\tau \\cos{\\left(\\theta_{r}{\\left(t \\right)} \\right)}\\right) \\sin{\\left(\\theta_{r}{\\left(t \\right)} \\right)} \\cos{\\left(\\theta_{r}{\\left(t \\right)} \\right)}}{l r^{2} \\left(m_{r} \\sin^{2}{\\left(\\theta_{r}{\\left(t \\right)} \\right)} + m_{w}\\right)^{2}} + \\frac{g l m_{r} r \\cos{\\left(2 \\theta_{r}{\\left(t \\right)} \\right)} + l^{2} m_{r} r \\cos{\\left(\\theta_{r}{\\left(t \\right)} \\right)} \\left(\\frac{d}{d t} \\theta_{r}{\\left(t \\right)}\\right)^{2} - r \\tau \\sin{\\left(\\theta_{r}{\\left(t \\right)} \\right)}}{l r^{2} \\left(m_{r} \\sin^{2}{\\left(\\theta_{r}{\\left(t \\right)} \\right)} + m_{w}\\right)} & 0 & \\frac{2 l m_{r} \\sin{\\left(\\theta_{r}{\\left(t \\right)} \\right)} \\frac{d}{d t} \\theta_{r}{\\left(t \\right)}}{r \\left(m_{r} \\sin^{2}{\\left(\\theta_{r}{\\left(t \\right)} \\right)} + m_{w}\\right)} & 0\\end{matrix}\\right]$"
      ],
      "text/plain": [
       "Matrix([\n",
       "[2*(g*l*m_r**2*r*sin(theta_r(t)) + g*l*m_r*m_w*r*sin(theta_r(t)) + l**2*m_r**2*r*sin(2*theta_r(t))*Derivative(theta_r(t), t)**2/2 + l*m_r*tau*cos(theta_r(t)) + m_r*r*tau + m_w*r*tau)*sin(theta_r(t))*cos(theta_r(t))/(l**2*r*(m_r*sin(theta_r(t))**2 + m_w)**2) - (g*l*m_r**2*r*cos(theta_r(t)) + g*l*m_r*m_w*r*cos(theta_r(t)) + l**2*m_r**2*r*cos(2*theta_r(t))*Derivative(theta_r(t), t)**2 - l*m_r*tau*sin(theta_r(t)))/(l**2*m_r*r*(m_r*sin(theta_r(t))**2 + m_w)), 0,      -m_r*sin(2*theta_r(t))*Derivative(theta_r(t), t)/(m_r*sin(theta_r(t))**2 + m_w), 0],\n",
       "[                                                                                                   -2*m_r*(g*l*m_r*r*sin(2*theta_r(t))/2 + l**2*m_r*r*sin(theta_r(t))*Derivative(theta_r(t), t)**2 + l*tau + r*tau*cos(theta_r(t)))*sin(theta_r(t))*cos(theta_r(t))/(l*r**2*(m_r*sin(theta_r(t))**2 + m_w)**2) + (g*l*m_r*r*cos(2*theta_r(t)) + l**2*m_r*r*cos(theta_r(t))*Derivative(theta_r(t), t)**2 - r*tau*sin(theta_r(t)))/(l*r**2*(m_r*sin(theta_r(t))**2 + m_w)), 0, 2*l*m_r*sin(theta_r(t))*Derivative(theta_r(t), t)/(r*(m_r*sin(theta_r(t))**2 + m_w)), 0]])"
      ]
     },
     "execution_count": 30,
     "metadata": {},
     "output_type": "execute_result"
    }
   ],
   "source": [
    "# We use the Jacobian to linearize the system at a point\n",
    "jacobian_A = Matrix(eqs.args[0]).jacobian([thetar, thetaw, thetardot, thetawdot])\n",
    "jacobian_A"
   ]
  },
  {
   "cell_type": "code",
   "execution_count": 31,
   "metadata": {},
   "outputs": [
    {
     "data": {
      "text/latex": [
       "$\\displaystyle \\left[\\begin{matrix}- \\frac{l m_{r} \\cos{\\left(\\theta_{r}{\\left(t \\right)} \\right)} + m_{r} r + m_{w} r}{l^{2} m_{r} r \\left(m_{r} \\sin^{2}{\\left(\\theta_{r}{\\left(t \\right)} \\right)} + m_{w}\\right)}\\\\\\frac{l + r \\cos{\\left(\\theta_{r}{\\left(t \\right)} \\right)}}{l r^{2} \\left(m_{r} \\sin^{2}{\\left(\\theta_{r}{\\left(t \\right)} \\right)} + m_{w}\\right)}\\end{matrix}\\right]$"
      ],
      "text/plain": [
       "Matrix([\n",
       "[-(l*m_r*cos(theta_r(t)) + m_r*r + m_w*r)/(l**2*m_r*r*(m_r*sin(theta_r(t))**2 + m_w))],\n",
       "[                     (l + r*cos(theta_r(t)))/(l*r**2*(m_r*sin(theta_r(t))**2 + m_w))]])"
      ]
     },
     "execution_count": 31,
     "metadata": {},
     "output_type": "execute_result"
    }
   ],
   "source": [
    "jacobian_B = Matrix(eqs.args[0]).jacobian([tau])\n",
    "jacobian_B"
   ]
  },
  {
   "cell_type": "code",
   "execution_count": 32,
   "metadata": {},
   "outputs": [
    {
     "data": {
      "text/latex": [
       "$\\displaystyle \\left[\\begin{matrix}- \\frac{- g l m_{r}^{2} r - g l m_{r} m_{w} r}{l^{2} m_{r} m_{w} r} & 0 & 0 & 0\\\\\\frac{g m_{r}}{m_{w} r} & 0 & 0 & 0\\end{matrix}\\right]$"
      ],
      "text/plain": [
       "Matrix([\n",
       "[-(-g*l*m_r**2*r - g*l*m_r*m_w*r)/(l**2*m_r*m_w*r), 0, 0, 0],\n",
       "[                                    g*m_r/(m_w*r), 0, 0, 0]])"
      ]
     },
     "execution_count": 32,
     "metadata": {},
     "output_type": "execute_result"
    }
   ],
   "source": [
    "# Substitute derivatives first, otherwise it seems that we end up with an expression that includes the derivatives of constants\n",
    "# for example, if we substitute (x, 5) in (d/dt)x we get (d/dt)5 which is (probably) not what we want\n",
    "# ALSO make sure to use sympy's pi and not numpy's (or python's) for exact result\n",
    "jacobian_A_eq = jacobian_A.subs([(thetardot, 0), (thetar, pi)])\n",
    "jacobian_A_eq"
   ]
  },
  {
   "cell_type": "code",
   "execution_count": 33,
   "metadata": {},
   "outputs": [
    {
     "data": {
      "text/latex": [
       "$\\displaystyle \\left[\\begin{matrix}- \\frac{- l m_{r} + m_{r} r + m_{w} r}{l^{2} m_{r} m_{w} r}\\\\\\frac{l - r}{l m_{w} r^{2}}\\end{matrix}\\right]$"
      ],
      "text/plain": [
       "Matrix([\n",
       "[-(-l*m_r + m_r*r + m_w*r)/(l**2*m_r*m_w*r)],\n",
       "[                      (l - r)/(l*m_w*r**2)]])"
      ]
     },
     "execution_count": 33,
     "metadata": {},
     "output_type": "execute_result"
    }
   ],
   "source": [
    "jacobian_B_eq = jacobian_B.subs([(thetardot, 0), (thetar, pi)])\n",
    "jacobian_B_eq"
   ]
  },
  {
   "cell_type": "code",
   "execution_count": 34,
   "metadata": {},
   "outputs": [
    {
     "data": {
      "text/latex": [
       "$\\displaystyle \\left[\\begin{matrix}\\frac{110}{3} & 0 & 0 & 0\\\\200 & 0 & 0 & 0\\end{matrix}\\right]$"
      ],
      "text/plain": [
       "Matrix([\n",
       "[110/3, 0, 0, 0],\n",
       "[  200, 0, 0, 0]])"
      ]
     },
     "execution_count": 34,
     "metadata": {},
     "output_type": "execute_result"
    }
   ],
   "source": [
    "jacobian_A_eq.subs([(g, 10), (r, Rational(1, 2)), (l, 3), (mr, 10), (mw, 1)])"
   ]
  },
  {
   "cell_type": "code",
   "execution_count": 35,
   "metadata": {},
   "outputs": [
    {
     "data": {
      "text/latex": [
       "$\\displaystyle \\left[\\begin{matrix}\\frac{49}{90}\\\\\\frac{10}{3}\\end{matrix}\\right]$"
      ],
      "text/plain": [
       "Matrix([\n",
       "[49/90],\n",
       "[ 10/3]])"
      ]
     },
     "execution_count": 35,
     "metadata": {},
     "output_type": "execute_result"
    }
   ],
   "source": [
    "jacobian_B_eq.subs([(g, 10), (r, Rational(1, 2)), (l, 3), (mr, 10), (mw, 1)])"
   ]
  },
  {
   "cell_type": "code",
   "execution_count": null,
   "metadata": {},
   "outputs": [],
   "source": []
  }
 ],
 "metadata": {
  "kernelspec": {
   "display_name": "Python 3",
   "language": "python",
   "name": "python3"
  },
  "language_info": {
   "codemirror_mode": {
    "name": "ipython",
    "version": 3
   },
   "file_extension": ".py",
   "mimetype": "text/x-python",
   "name": "python",
   "nbconvert_exporter": "python",
   "pygments_lexer": "ipython3",
   "version": "3.8.2"
  }
 },
 "nbformat": 4,
 "nbformat_minor": 4
}
